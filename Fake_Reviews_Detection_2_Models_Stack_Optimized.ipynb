{
  "cells": [
    {
      "cell_type": "markdown",
      "metadata": {},
      "source": [
        "## Building the Stack Ensemble"
      ]
    },
    {
      "cell_type": "markdown",
      "metadata": {},
      "source": [
        "Importing Libraries"
      ]
    },
    {
      "cell_type": "code",
      "execution_count": null,
      "metadata": {
        "colab": {
          "base_uri": "https://localhost:8080/"
        },
        "id": "quiYyDj2lHEz",
        "outputId": "1838f3fd-bb6e-48c7-ecdf-fb657fc2bc60"
      },
      "outputs": [
        {
          "name": "stderr",
          "output_type": "stream",
          "text": [
            "[nltk_data] Downloading package stopwords to /root/nltk_data...\n",
            "[nltk_data]   Package stopwords is already up-to-date!\n",
            "[nltk_data] Downloading package wordnet to /root/nltk_data...\n",
            "[nltk_data]   Package wordnet is already up-to-date!\n"
          ]
        }
      ],
      "source": [
        "import numpy as np\n",
        "import pandas as pd\n",
        "import warnings, string, nltk, joblib, time\n",
        "from sklearn.model_selection import train_test_split, GridSearchCV\n",
        "from sklearn.metrics import classification_report, confusion_matrix, accuracy_score\n",
        "from sklearn.feature_extraction.text import CountVectorizer, TfidfTransformer\n",
        "from sklearn.pipeline import Pipeline\n",
        "\n",
        "warnings.filterwarnings('ignore')\n",
        "nltk.download('stopwords')\n",
        "nltk.download('wordnet')\n",
        "from nltk.corpus import stopwords\n",
        "from nltk.stem import WordNetLemmatizer\n"
      ]
    },
    {
      "cell_type": "markdown",
      "metadata": {},
      "source": [
        "Defining text processing functions"
      ]
    },
    {
      "cell_type": "code",
      "execution_count": null,
      "metadata": {},
      "outputs": [],
      "source": [
        "def preprocess_text(text):\n",
        "    text = text.lower()\n",
        "    text = text.translate(str.maketrans(\"\", \"\", string.punctuation))\n",
        "    words = text.split()\n",
        "    stop_words = set(stopwords.words(\"english\"))\n",
        "    filtered_words = [word for word in words if word not in stop_words]\n",
        "    lemmatizer = WordNetLemmatizer()\n",
        "    lemmatized_words = [lemmatizer.lemmatize(word) for word in filtered_words]\n",
        "    return \" \".join(lemmatized_words)\n",
        "\n",
        "def minimal_preprocess(text):\n",
        "    return text.lower()\n",
        "\n",
        "def whitespace_split(text):\n",
        "    return text.split()"
      ]
    },
    {
      "cell_type": "markdown",
      "metadata": {},
      "source": [
        "Loading the Dataset"
      ]
    },
    {
      "cell_type": "code",
      "execution_count": null,
      "metadata": {},
      "outputs": [],
      "source": [
        "df = pd.read_csv(\"/content/fake reviews dataset.csv\")\n",
        "df = df.dropna(subset=[\"text_\"])\n",
        "df = df[~df[\"text_\"].str.contains(\"http\", na=False)]\n",
        "df[\"processed_text\"] = df[\"text_\"]\n",
        "\n",
        "\n",
        "df_sample = df\n",
        "X = df_sample[\"processed_text\"]\n",
        "y = df_sample[\"label\"]\n",
        "\n",
        "# Dataset splitting\n",
        "X_train, X_test, y_train, y_test = train_test_split(\n",
        "    X, y, test_size=0.35, random_state=77, stratify=y\n",
        ")\n",
        "\n",
        "# Vectorization\n",
        "vectorizer = CountVectorizer(max_features=5000, analyzer=whitespace_split)\n",
        "\n",
        "tfidf_transformer = TfidfTransformer()\n",
        "\n",
        "X_train_counts = vectorizer.fit_transform(X_train)\n",
        "X_train_tfidf = tfidf_transformer.fit_transform(X_train_counts)\n",
        "X_test_counts = vectorizer.transform(X_test)\n",
        "X_test_tfidf = tfidf_transformer.transform(X_test_counts)\n",
        "\n",
        "import numpy as np\n",
        "import pandas as pd\n",
        "import warnings, string, nltk, joblib, time\n",
        "from sklearn.model_selection import train_test_split, GridSearchCV\n",
        "from sklearn.metrics import classification_report, confusion_matrix, accuracy_score\n",
        "from sklearn.pipeline import Pipeline\n",
        "from sklearn.svm import SVC\n",
        "from sklearn.linear_model import LogisticRegression\n",
        "from sklearn.naive_bayes import MultinomialNB\n",
        "from sklearn.ensemble import StackingClassifier\n",
        "from sklearn.feature_extraction.text import CountVectorizer, TfidfTransformer"
      ]
    },
    {
      "cell_type": "markdown",
      "metadata": {
        "id": "N8lqaG-wndhd"
      },
      "source": [
        "Defining and testing the models individually"
      ]
    },
    {
      "cell_type": "code",
      "execution_count": null,
      "metadata": {
        "id": "Cy9KDyJBngBV"
      },
      "outputs": [],
      "source": [
        "lr_clf = LogisticRegression(solver=\"liblinear\", random_state=42, penalty='l2', C=4)\n",
        "nb_clf = MultinomialNB()"
      ]
    },
    {
      "cell_type": "code",
      "execution_count": null,
      "metadata": {
        "colab": {
          "base_uri": "https://localhost:8080/"
        },
        "id": "PLFYZ9VwnYZ8",
        "outputId": "3e43be74-96e7-4b7b-a550-db8238bc8f7a"
      },
      "outputs": [
        {
          "name": "stdout",
          "output_type": "stream",
          "text": [
            "=== Logistic Regression Classification Report ===\n",
            "              precision    recall  f1-score   support\n",
            "\n",
            "          CG       0.92      0.92      0.92      7060\n",
            "          OR       0.92      0.92      0.92      7054\n",
            "\n",
            "    accuracy                           0.92     14114\n",
            "   macro avg       0.92      0.92      0.92     14114\n",
            "weighted avg       0.92      0.92      0.92     14114\n",
            "\n",
            "Logistic Regression Accuracy: 91.86%\n"
          ]
        }
      ],
      "source": [
        "# Train Logistic Regression directly on vectorized features\n",
        "lr_clf.fit(X_train_tfidf, y_train)\n",
        "lr_preds = lr_clf.predict(X_test_tfidf)\n",
        "\n",
        "# Evaluate Logistic Regression\n",
        "print(\"=== Logistic Regression Classification Report ===\")\n",
        "print(classification_report(y_test, lr_preds))\n",
        "print(\"Logistic Regression Accuracy: {:.2%}\".format(accuracy_score(y_test, lr_preds)))\n"
      ]
    },
    {
      "cell_type": "code",
      "execution_count": null,
      "metadata": {
        "colab": {
          "base_uri": "https://localhost:8080/"
        },
        "id": "gNzfAAvdnqY2",
        "outputId": "59a93121-aa20-4bcf-d539-c0a18747e3f4"
      },
      "outputs": [
        {
          "name": "stdout",
          "output_type": "stream",
          "text": [
            "=== Naive Bayes Classification Report ===\n",
            "              precision    recall  f1-score   support\n",
            "\n",
            "          CG       0.88      0.91      0.89      7060\n",
            "          OR       0.90      0.87      0.89      7054\n",
            "\n",
            "    accuracy                           0.89     14114\n",
            "   macro avg       0.89      0.89      0.89     14114\n",
            "weighted avg       0.89      0.89      0.89     14114\n",
            "\n",
            "Naive Bayes Accuracy: 89.06%\n"
          ]
        }
      ],
      "source": [
        "# Train Naive Bayes directly on vectorized features\n",
        "nb_clf.fit(X_train_tfidf, y_train)\n",
        "nb_preds = nb_clf.predict(X_test_tfidf)\n",
        "\n",
        "# Evaluate Naive Bayes\n",
        "print(\"=== Naive Bayes Classification Report ===\")\n",
        "print(classification_report(y_test, nb_preds))\n",
        "print(\"Naive Bayes Accuracy: {:.2%}\".format(accuracy_score(y_test, nb_preds)))\n"
      ]
    },
    {
      "cell_type": "code",
      "execution_count": null,
      "metadata": {
        "colab": {
          "base_uri": "https://localhost:8080/"
        },
        "id": "ImRgVXK2q4gN",
        "outputId": "f7b7efd8-3f56-415f-989e-e1672485e91c"
      },
      "outputs": [
        {
          "name": "stdout",
          "output_type": "stream",
          "text": [
            "=== Classification Report ===\n",
            "              precision    recall  f1-score   support\n",
            "\n",
            "          CG       0.92      0.92      0.92      7060\n",
            "          OR       0.92      0.92      0.92      7054\n",
            "\n",
            "    accuracy                           0.92     14114\n",
            "   macro avg       0.92      0.92      0.92     14114\n",
            "weighted avg       0.92      0.92      0.92     14114\n",
            "\n",
            "=== Confusion Matrix ===\n",
            "[[6526  534]\n",
            " [ 573 6481]]\n",
            "Accuracy: 92.16%\n"
          ]
        }
      ],
      "source": [
        "lr_clf = LogisticRegression(solver=\"liblinear\", random_state=42, penalty='l2', C=4)\n",
        "nb_clf = MultinomialNB()\n",
        "\n",
        "estimators = [\n",
        "    (\"LogReg\", lr_clf),\n",
        "    (\"NB\", nb_clf)\n",
        "] # Base estimators\n",
        "\n",
        "# =============================================================================\n",
        "# Create the Stacking Classifier\n",
        "# =============================================================================\n",
        "stacking_model = StackingClassifier(\n",
        "    estimators=estimators,\n",
        "    final_estimator=LogisticRegression(solver=\"liblinear\", random_state=42),\n",
        "    cv=25,\n",
        "    n_jobs=-1,\n",
        "    passthrough=True\n",
        ")\n",
        "\n",
        "# =============================================================================\n",
        "# Train the Stacking Model\n",
        "# =============================================================================\n",
        "stacking_model.fit(X_train_tfidf, y_train)\n",
        "\n",
        "# =============================================================================\n",
        "# Evaluation\n",
        "# =============================================================================\n",
        "y_pred = stacking_model.predict(X_test_tfidf)\n",
        "print(\"=== Classification Report ===\")\n",
        "print(classification_report(y_test, y_pred))\n",
        "print(\"=== Confusion Matrix ===\")\n",
        "print(confusion_matrix(y_test, y_pred))\n",
        "print(\"Accuracy: {:.2%}\".format(accuracy_score(y_test, y_pred)))\n"
      ]
    },
    {
      "cell_type": "markdown",
      "metadata": {},
      "source": [
        "Saving the Stack Model"
      ]
    },
    {
      "cell_type": "code",
      "execution_count": null,
      "metadata": {
        "colab": {
          "base_uri": "https://localhost:8080/"
        },
        "id": "mwGwKw5c-skD",
        "outputId": "017a8b35-2bc0-4fb8-a3e0-82634e9e62e2"
      },
      "outputs": [
        {
          "name": "stdout",
          "output_type": "stream",
          "text": [
            "Mounted at /content/drive\n",
            "✅ Model saved to Google Drive at: /content/drive/MyDrive/Fake_Review_Model/stack_2_models_optimized.pkl\n"
          ]
        }
      ],
      "source": [
        "from google.colab import drive\n",
        "import shutil\n",
        "\n",
        "drive.mount('/content/drive')\n",
        "\n",
        "destination_folder = \"/content/drive/MyDrive/Fake_Review_Model/\"\n",
        "\n",
        "!mkdir -p \"$destination_folder\"\n",
        "\n",
        "model_filename = \"stack_2_models_optimized.pkl\"\n",
        "joblib.dump((vectorizer, tfidf_transformer, stacking_model), model_filename)\n",
        "\n",
        "shutil.copy(model_filename, destination_folder)\n",
        "\n",
        "print(f\"Model saved to Google Drive at: {destination_folder}{model_filename}\")\n"
      ]
    }
  ],
  "metadata": {
    "colab": {
      "provenance": []
    },
    "kernelspec": {
      "display_name": "Python 3",
      "name": "python3"
    },
    "language_info": {
      "name": "python"
    }
  },
  "nbformat": 4,
  "nbformat_minor": 0
}
