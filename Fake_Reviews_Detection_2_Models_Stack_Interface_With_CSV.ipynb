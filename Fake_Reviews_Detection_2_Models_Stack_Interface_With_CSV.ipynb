{
  "cells": [
    {
      "cell_type": "markdown",
      "metadata": {},
      "source": [
        "## Creating interface for predicting the reviews"
      ]
    },
    {
      "cell_type": "markdown",
      "metadata": {},
      "source": [
        "Downloading the required packages"
      ]
    },
    {
      "cell_type": "code",
      "execution_count": null,
      "metadata": {
        "colab": {
          "base_uri": "https://localhost:8080/"
        },
        "collapsed": true,
        "id": "8pOvwIp7ZUkZ",
        "outputId": "3e59414a-7c09-4c4b-99df-61596b26a624"
      },
      "outputs": [
        {
          "name": "stdout",
          "output_type": "stream",
          "text": [
            "Requirement already satisfied: streamlit in /usr/local/lib/python3.11/dist-packages (1.43.2)\n",
            "Requirement already satisfied: pyngrok in /usr/local/lib/python3.11/dist-packages (7.2.3)\n",
            "Requirement already satisfied: joblib in /usr/local/lib/python3.11/dist-packages (1.4.2)\n",
            "Requirement already satisfied: nltk in /usr/local/lib/python3.11/dist-packages (3.9.1)\n",
            "Requirement already satisfied: scikit-learn in /usr/local/lib/python3.11/dist-packages (1.6.1)\n",
            "Requirement already satisfied: dill in /usr/local/lib/python3.11/dist-packages (0.3.9)\n",
            "Requirement already satisfied: altair<6,>=4.0 in /usr/local/lib/python3.11/dist-packages (from streamlit) (5.5.0)\n",
            "Requirement already satisfied: blinker<2,>=1.0.0 in /usr/local/lib/python3.11/dist-packages (from streamlit) (1.9.0)\n",
            "Requirement already satisfied: cachetools<6,>=4.0 in /usr/local/lib/python3.11/dist-packages (from streamlit) (5.5.2)\n",
            "Requirement already satisfied: click<9,>=7.0 in /usr/local/lib/python3.11/dist-packages (from streamlit) (8.1.8)\n",
            "Requirement already satisfied: numpy<3,>=1.23 in /usr/local/lib/python3.11/dist-packages (from streamlit) (1.26.4)\n",
            "Requirement already satisfied: packaging<25,>=20 in /usr/local/lib/python3.11/dist-packages (from streamlit) (24.2)\n",
            "Requirement already satisfied: pandas<3,>=1.4.0 in /usr/local/lib/python3.11/dist-packages (from streamlit) (2.2.2)\n",
            "Requirement already satisfied: pillow<12,>=7.1.0 in /usr/local/lib/python3.11/dist-packages (from streamlit) (11.1.0)\n",
            "Requirement already satisfied: protobuf<6,>=3.20 in /usr/local/lib/python3.11/dist-packages (from streamlit) (4.25.6)\n",
            "Requirement already satisfied: pyarrow>=7.0 in /usr/local/lib/python3.11/dist-packages (from streamlit) (18.1.0)\n",
            "Requirement already satisfied: requests<3,>=2.27 in /usr/local/lib/python3.11/dist-packages (from streamlit) (2.32.3)\n",
            "Requirement already satisfied: tenacity<10,>=8.1.0 in /usr/local/lib/python3.11/dist-packages (from streamlit) (9.0.0)\n",
            "Requirement already satisfied: toml<2,>=0.10.1 in /usr/local/lib/python3.11/dist-packages (from streamlit) (0.10.2)\n",
            "Requirement already satisfied: typing-extensions<5,>=4.4.0 in /usr/local/lib/python3.11/dist-packages (from streamlit) (4.12.2)\n",
            "Requirement already satisfied: watchdog<7,>=2.1.5 in /usr/local/lib/python3.11/dist-packages (from streamlit) (6.0.0)\n",
            "Requirement already satisfied: gitpython!=3.1.19,<4,>=3.0.7 in /usr/local/lib/python3.11/dist-packages (from streamlit) (3.1.44)\n",
            "Requirement already satisfied: pydeck<1,>=0.8.0b4 in /usr/local/lib/python3.11/dist-packages (from streamlit) (0.9.1)\n",
            "Requirement already satisfied: tornado<7,>=6.0.3 in /usr/local/lib/python3.11/dist-packages (from streamlit) (6.4.2)\n",
            "Requirement already satisfied: PyYAML>=5.1 in /usr/local/lib/python3.11/dist-packages (from pyngrok) (6.0.2)\n",
            "Requirement already satisfied: regex>=2021.8.3 in /usr/local/lib/python3.11/dist-packages (from nltk) (2024.11.6)\n",
            "Requirement already satisfied: tqdm in /usr/local/lib/python3.11/dist-packages (from nltk) (4.67.1)\n",
            "Requirement already satisfied: scipy>=1.6.0 in /usr/local/lib/python3.11/dist-packages (from scikit-learn) (1.14.1)\n",
            "Requirement already satisfied: threadpoolctl>=3.1.0 in /usr/local/lib/python3.11/dist-packages (from scikit-learn) (3.5.0)\n",
            "Requirement already satisfied: jinja2 in /usr/local/lib/python3.11/dist-packages (from altair<6,>=4.0->streamlit) (3.1.6)\n",
            "Requirement already satisfied: jsonschema>=3.0 in /usr/local/lib/python3.11/dist-packages (from altair<6,>=4.0->streamlit) (4.23.0)\n",
            "Requirement already satisfied: narwhals>=1.14.2 in /usr/local/lib/python3.11/dist-packages (from altair<6,>=4.0->streamlit) (1.30.0)\n",
            "Requirement already satisfied: gitdb<5,>=4.0.1 in /usr/local/lib/python3.11/dist-packages (from gitpython!=3.1.19,<4,>=3.0.7->streamlit) (4.0.12)\n",
            "Requirement already satisfied: python-dateutil>=2.8.2 in /usr/local/lib/python3.11/dist-packages (from pandas<3,>=1.4.0->streamlit) (2.8.2)\n",
            "Requirement already satisfied: pytz>=2020.1 in /usr/local/lib/python3.11/dist-packages (from pandas<3,>=1.4.0->streamlit) (2025.1)\n",
            "Requirement already satisfied: tzdata>=2022.7 in /usr/local/lib/python3.11/dist-packages (from pandas<3,>=1.4.0->streamlit) (2025.1)\n",
            "Requirement already satisfied: charset-normalizer<4,>=2 in /usr/local/lib/python3.11/dist-packages (from requests<3,>=2.27->streamlit) (3.4.1)\n",
            "Requirement already satisfied: idna<4,>=2.5 in /usr/local/lib/python3.11/dist-packages (from requests<3,>=2.27->streamlit) (3.10)\n",
            "Requirement already satisfied: urllib3<3,>=1.21.1 in /usr/local/lib/python3.11/dist-packages (from requests<3,>=2.27->streamlit) (2.3.0)\n",
            "Requirement already satisfied: certifi>=2017.4.17 in /usr/local/lib/python3.11/dist-packages (from requests<3,>=2.27->streamlit) (2025.1.31)\n",
            "Requirement already satisfied: smmap<6,>=3.0.1 in /usr/local/lib/python3.11/dist-packages (from gitdb<5,>=4.0.1->gitpython!=3.1.19,<4,>=3.0.7->streamlit) (5.0.2)\n",
            "Requirement already satisfied: MarkupSafe>=2.0 in /usr/local/lib/python3.11/dist-packages (from jinja2->altair<6,>=4.0->streamlit) (3.0.2)\n",
            "Requirement already satisfied: attrs>=22.2.0 in /usr/local/lib/python3.11/dist-packages (from jsonschema>=3.0->altair<6,>=4.0->streamlit) (25.2.0)\n",
            "Requirement already satisfied: jsonschema-specifications>=2023.03.6 in /usr/local/lib/python3.11/dist-packages (from jsonschema>=3.0->altair<6,>=4.0->streamlit) (2024.10.1)\n",
            "Requirement already satisfied: referencing>=0.28.4 in /usr/local/lib/python3.11/dist-packages (from jsonschema>=3.0->altair<6,>=4.0->streamlit) (0.36.2)\n",
            "Requirement already satisfied: rpds-py>=0.7.1 in /usr/local/lib/python3.11/dist-packages (from jsonschema>=3.0->altair<6,>=4.0->streamlit) (0.23.1)\n",
            "Requirement already satisfied: six>=1.5 in /usr/local/lib/python3.11/dist-packages (from python-dateutil>=2.8.2->pandas<3,>=1.4.0->streamlit) (1.17.0)\n"
          ]
        }
      ],
      "source": [
        "!pip install streamlit pyngrok joblib nltk scikit-learn dill\n",
        "from pyngrok import ngrok\n",
        "\n",
        "ngrok.set_auth_token(\"#\") # Set authorization token from ngrok"
      ]
    },
    {
      "cell_type": "markdown",
      "metadata": {},
      "source": [
        "Writing the \"app.py\" file"
      ]
    },
    {
      "cell_type": "code",
      "execution_count": null,
      "metadata": {
        "colab": {
          "base_uri": "https://localhost:8080/"
        },
        "id": "D8pnPkuRYuSW",
        "outputId": "2aa3652c-b247-4f32-af0d-dca7cc2d06e1"
      },
      "outputs": [
        {
          "name": "stdout",
          "output_type": "stream",
          "text": [
            "Writing app.py\n"
          ]
        }
      ],
      "source": [
        "%%writefile app.py\n",
        "import streamlit as st\n",
        "import joblib\n",
        "import string\n",
        "import nltk\n",
        "import pandas as pd\n",
        "from sklearn.feature_extraction.text import CountVectorizer, TfidfTransformer\n",
        "\n",
        "\n",
        "import joblib\n",
        "import streamlit as st\n",
        "import joblib\n",
        "import string\n",
        "import nltk\n",
        "import pandas as pd\n",
        "from sklearn.feature_extraction.text import CountVectorizer, TfidfTransformer\n",
        "\n",
        "nltk.download(\"stopwords\")\n",
        "\n",
        "def whitespace_split(text):\n",
        "    return text.split()\n",
        "\n",
        "model_path = \"/content/stack_2_models_optimized.pkl\"\n",
        "vectorizer, tfidf_transformer, stacking_model = joblib.load(model_path)\n",
        "\n",
        "\n",
        "def predict_review_probability(review, fake_threshold=0.7):\n",
        "    \"\"\"\n",
        "    Transforms a single review text and obtains prediction probabilities using the stacking model.\n",
        "    \"\"\"\n",
        "    review_counts = vectorizer.transform([review])\n",
        "    review_tfidf = tfidf_transformer.transform(review_counts)\n",
        "    probas = stacking_model.predict_proba(review_tfidf)[0]\n",
        "\n",
        "    new_real_prob = probas[1]\n",
        "    new_fake_prob = probas[0]\n",
        "\n",
        "    prediction = \"Fake Review\" if new_fake_prob >= fake_threshold else \"Real Review\"\n",
        "    return prediction, (new_real_prob, new_fake_prob)\n",
        "\n",
        "def predict_csv_file(uploaded_file):\n",
        "    \"\"\"\n",
        "    Reads a CSV file, processes all reviews, and returns overall real/fake probabilities.\n",
        "    \"\"\"\n",
        "    df = pd.read_csv(uploaded_file)\n",
        "\n",
        "    # Ensure CSV has only reviews (first column assumed to contain reviews)\n",
        "    if df.shape[1] > 1:\n",
        "        st.warning(\"⚠️ The uploaded CSV has multiple columns. Only the first column will be considered as reviews.\")\n",
        "\n",
        "    # Extract reviews\n",
        "    reviews = df.iloc[:, 0].astype(str).tolist()\n",
        "\n",
        "    # Transform reviews using the loaded vectorizer & TF-IDF transformer\n",
        "    review_counts = vectorizer.transform(reviews)\n",
        "    review_tfidf = tfidf_transformer.transform(review_counts)\n",
        "\n",
        "    # Get probabilities for all reviews\n",
        "    probas = stacking_model.predict_proba(review_tfidf)\n",
        "\n",
        "    real_probs = probas[:, 1]  # Index 1 is real\n",
        "    fake_probs = probas[:, 0]  # Index 0 is fake\n",
        "\n",
        "    # Compute overall averages\n",
        "    avg_real_prob = real_probs.mean()\n",
        "    avg_fake_prob = fake_probs.mean()\n",
        "\n",
        "    return avg_real_prob, avg_fake_prob\n",
        "\n",
        "# ========================== STREAMLIT UI ==========================\n",
        "\n",
        "st.title(\"🛍️ Fake Review Detector\")\n",
        "st.markdown(\"**Check if a review or a batch of reviews is Real or Fake.**\")\n",
        "\n",
        "# Option 1: Single Review Input\n",
        "st.subheader(\"📌 Test a Single Review\")\n",
        "review_input = st.text_area(\"Enter a product review:\", height=150)\n",
        "\n",
        "if st.button(\"Analyze Review\"):\n",
        "    if not review_input.strip():\n",
        "        st.error(\"❌ Please enter a review.\")\n",
        "    else:\n",
        "        prediction, (real_prob, fake_prob) = predict_review_probability(review_input, fake_threshold=0.7)\n",
        "        st.markdown(f\"**🟢 Probability of being Real:** {real_prob:.2%}\")\n",
        "        st.markdown(f\"**🔴 Probability of being Fake:** {fake_prob:.2%}\")\n",
        "        st.markdown(f\"### 🎯 Prediction: {prediction}\")\n",
        "        st.progress(int(fake_prob * 100))\n",
        "\n",
        "# Option 2: CSV Upload\n",
        "st.subheader(\"📂 Upload a CSV File\")\n",
        "uploaded_file = st.file_uploader(\"Upload a CSV file with reviews (one review per row)\", type=[\"csv\"])\n",
        "\n",
        "if uploaded_file is not None:\n",
        "    if st.button(\"Analyze CSV Reviews\"):\n",
        "        avg_real_prob, avg_fake_prob = predict_csv_file(uploaded_file)\n",
        "\n",
        "        st.markdown(f\"**🟢 Average Probability of Reviews Being Real:** {avg_real_prob:.2%}\")\n",
        "        st.markdown(f\"**🔴 Average Probability of Reviews Being Fake:** {avg_fake_prob:.2%}\")\n",
        "\n",
        "        if avg_fake_prob > avg_real_prob:\n",
        "            st.markdown(\"### ⚠️ Most of these reviews seem **Fake**!\")\n",
        "        else:\n",
        "            st.markdown(\"### ✅ Most of these reviews seem **Real**!\")\n",
        "\n",
        "\n"
      ]
    },
    {
      "cell_type": "markdown",
      "metadata": {},
      "source": [
        "Opening streamlit (interface)"
      ]
    },
    {
      "cell_type": "code",
      "execution_count": null,
      "metadata": {
        "colab": {
          "base_uri": "https://localhost:8080/"
        },
        "id": "GRWnmiS_j8uE",
        "outputId": "1ff312d6-f06b-4ea9-b599-42b70889c428"
      },
      "outputs": [],
      "source": [
        "\n",
        "from pyngrok import ngrok\n",
        "import subprocess\n",
        "import time\n",
        "\n",
        "# Kill any pre-existing ngrok processes\n",
        "!pkill ngrok\n",
        "\n",
        "port = 8501\n",
        "\n",
        "public_url = ngrok.connect(port).public_url\n",
        "print(\"Your Streamlit app is available at:\", public_url)\n",
        "\n",
        "# Run the Streamlit app in a background process\n",
        "process = subprocess.Popen([\"streamlit\", \"run\", \"app.py\"], stdout=subprocess.PIPE, stderr=subprocess.PIPE)\n",
        "\n",
        "# Optional: Wait a few seconds to let the app start properly\n",
        "time.sleep(5)\n"
      ]
    }
  ],
  "metadata": {
    "colab": {
      "provenance": []
    },
    "kernelspec": {
      "display_name": "Python 3",
      "name": "python3"
    },
    "language_info": {
      "name": "python"
    }
  },
  "nbformat": 4,
  "nbformat_minor": 0
}
